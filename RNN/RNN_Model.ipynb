{
  "cells": [
    {
      "cell_type": "code",
      "execution_count": 1,
      "metadata": {
        "colab": {
          "base_uri": "https://localhost:8080/"
        },
        "id": "FMDKda-XIUAK",
        "outputId": "d40d0dc9-f0e0-435c-e282-e214356488f0"
      },
      "outputs": [],
      "source": [
        "# 1. Import thư viện cần thiết\n",
        "import numpy as np\n",
        "import pandas as pd\n",
        "import matplotlib.pyplot as plt\n",
        "from sklearn.preprocessing import MinMaxScaler\n",
        "from keras.models import Sequential\n",
        "from keras.layers import Dense, SimpleRNN"
      ]
    },
    {
      "cell_type": "code",
      "execution_count": 2,
      "metadata": {
        "id": "aRm9GQ8KJJ5N"
      },
      "outputs": [],
      "source": [
        "# 2. Đọc file csv và gắng index với giá Close\n",
        "df = pd.read_csv(\"Q:/4. Learning/3nd year students/1. Data business analytics/Report Data Business Analytics/time-series-forecasting/Dataset/FPT.csv\")\n",
        "df1=df.reset_index()['Price']"
      ]
    },
    {
      "cell_type": "code",
      "execution_count": 3,
      "metadata": {
        "id": "RdVpDho2JgL5"
      },
      "outputs": [],
      "source": [
        "# 3. Scaler data\n",
        "scaler=MinMaxScaler(feature_range=(0,1))\n",
        "df1=scaler.fit_transform(np.array(df1).reshape(-1,1))"
      ]
    },
    {
      "cell_type": "code",
      "execution_count": 4,
      "metadata": {
        "id": "B5JXpenzJoR3"
      },
      "outputs": [],
      "source": [
        "# 4. Chia train test\n",
        "train_size = int(0.7 * len(df1))\n",
        "test_size = int(0.2 * len(df1))\n",
        "val_size = len(df1) - train_size - test_size\n",
        "\n",
        "train_data = df1[:train_size]\n",
        "test_data = df1[train_size:train_size+test_size]\n",
        "val_data = df1[train_size+test_size:]"
      ]
    },
    {
      "cell_type": "code",
      "execution_count": 5,
      "metadata": {
        "id": "yJfmuBORLSfC"
      },
      "outputs": [],
      "source": [
        "# 5. Hàm Create Dataset\n",
        "import numpy\n",
        "# convert an array of values into a dataset matrix\n",
        "def create_dataset(dataset, time_step=1):\n",
        "\tdataX, dataY = [], []\n",
        "\tfor i in range(len(dataset)-time_step-1):\n",
        "\t\ta = dataset[i:(i+time_step), 0]   ###i=0, X=0,1,2,3-----99   Y=100 \n",
        "\t\tdataX.append(a)\n",
        "\t\tdataY.append(dataset[i + time_step, 0])\n",
        "\treturn numpy.array(dataX), numpy.array(dataY)"
      ]
    },
    {
      "cell_type": "code",
      "execution_count": 6,
      "metadata": {
        "id": "e81cKq03LXFB"
      },
      "outputs": [],
      "source": [
        "#6. Reshape into X=t,t+1,t+2..t+99 and Y=t+100\n",
        "\n",
        "time_step = 100\n",
        "X_train, y_train = create_dataset(train_data, time_step)\n",
        "X_val, yval = create_dataset(val_data, time_step)\n",
        "X_test, ytest = create_dataset(test_data, time_step)"
      ]
    },
    {
      "cell_type": "code",
      "execution_count": 7,
      "metadata": {
        "id": "RdBVfku7O2qb"
      },
      "outputs": [],
      "source": [
        "# 7. Reshape input to be [samples, time steps, features] which is required for LSTM\n",
        "X_train =X_train.reshape(X_train.shape[0],X_train.shape[1] , 1)\n",
        "X_test = X_test.reshape(X_test.shape[0],X_test.shape[1] , 1)\n",
        "X_val = X_val.reshape(X_val.shape[0],X_val.shape[1] , 1)"
      ]
    },
    {
      "cell_type": "code",
      "execution_count": 8,
      "metadata": {
        "id": "sSfxrE7BO9vX"
      },
      "outputs": [],
      "source": [
        "# 8. Define LSTM Model\n",
        "\n",
        "model = Sequential()\n",
        "model.add(SimpleRNN(50, input_shape=(time_step, 1)))\n",
        "model.add(Dense(1))\n",
        "model.compile(loss='mean_squared_error',optimizer='adam')"
      ]
    },
    {
      "cell_type": "code",
      "execution_count": 9,
      "metadata": {
        "colab": {
          "base_uri": "https://localhost:8080/"
        },
        "id": "zgfeujZSPEKr",
        "outputId": "c3779b92-f127-487b-a438-0b2a274645fc"
      },
      "outputs": [
        {
          "name": "stdout",
          "output_type": "stream",
          "text": [
            "Epoch 1/100\n",
            "11/11 [==============================] - 1s 22ms/step - loss: 0.0502 - val_loss: 0.0041\n",
            "Epoch 2/100\n",
            "11/11 [==============================] - 0s 10ms/step - loss: 0.0027 - val_loss: 0.0023\n",
            "Epoch 3/100\n",
            "11/11 [==============================] - 0s 10ms/step - loss: 8.5018e-04 - val_loss: 0.0032\n",
            "Epoch 4/100\n",
            "11/11 [==============================] - 0s 13ms/step - loss: 7.2701e-04 - val_loss: 0.0027\n",
            "Epoch 5/100\n",
            "11/11 [==============================] - 0s 9ms/step - loss: 5.2047e-04 - val_loss: 0.0021\n",
            "Epoch 6/100\n",
            "11/11 [==============================] - 0s 9ms/step - loss: 4.4886e-04 - val_loss: 0.0019\n",
            "Epoch 7/100\n",
            "11/11 [==============================] - 0s 11ms/step - loss: 4.3375e-04 - val_loss: 0.0018\n",
            "Epoch 8/100\n",
            "11/11 [==============================] - 0s 10ms/step - loss: 4.4586e-04 - val_loss: 0.0018\n",
            "Epoch 9/100\n",
            "11/11 [==============================] - 0s 9ms/step - loss: 3.9297e-04 - val_loss: 0.0017\n",
            "Epoch 10/100\n",
            "11/11 [==============================] - 0s 9ms/step - loss: 3.6875e-04 - val_loss: 0.0015\n",
            "Epoch 11/100\n",
            "11/11 [==============================] - 0s 9ms/step - loss: 3.4573e-04 - val_loss: 0.0015\n",
            "Epoch 12/100\n",
            "11/11 [==============================] - 0s 10ms/step - loss: 3.3568e-04 - val_loss: 0.0014\n",
            "Epoch 13/100\n",
            "11/11 [==============================] - 0s 14ms/step - loss: 3.2345e-04 - val_loss: 0.0013\n",
            "Epoch 14/100\n",
            "11/11 [==============================] - 0s 9ms/step - loss: 3.1973e-04 - val_loss: 0.0012\n",
            "Epoch 15/100\n",
            "11/11 [==============================] - 0s 11ms/step - loss: 3.3414e-04 - val_loss: 0.0012\n",
            "Epoch 16/100\n",
            "11/11 [==============================] - 0s 11ms/step - loss: 3.1323e-04 - val_loss: 0.0013\n",
            "Epoch 17/100\n",
            "11/11 [==============================] - 0s 11ms/step - loss: 3.3067e-04 - val_loss: 0.0012\n",
            "Epoch 18/100\n",
            "11/11 [==============================] - 0s 11ms/step - loss: 3.3380e-04 - val_loss: 0.0011\n",
            "Epoch 19/100\n",
            "11/11 [==============================] - 0s 10ms/step - loss: 3.2677e-04 - val_loss: 0.0011\n",
            "Epoch 20/100\n",
            "11/11 [==============================] - 0s 12ms/step - loss: 2.9405e-04 - val_loss: 0.0012\n",
            "Epoch 21/100\n",
            "11/11 [==============================] - 0s 10ms/step - loss: 3.0753e-04 - val_loss: 0.0011\n",
            "Epoch 22/100\n",
            "11/11 [==============================] - 0s 11ms/step - loss: 2.7986e-04 - val_loss: 0.0010\n",
            "Epoch 23/100\n",
            "11/11 [==============================] - 0s 9ms/step - loss: 2.8984e-04 - val_loss: 0.0010\n",
            "Epoch 24/100\n",
            "11/11 [==============================] - 0s 10ms/step - loss: 2.7232e-04 - val_loss: 9.8537e-04\n",
            "Epoch 25/100\n",
            "11/11 [==============================] - 0s 15ms/step - loss: 2.8048e-04 - val_loss: 0.0010\n",
            "Epoch 26/100\n",
            "11/11 [==============================] - 0s 10ms/step - loss: 3.1799e-04 - val_loss: 9.6558e-04\n",
            "Epoch 27/100\n",
            "11/11 [==============================] - 0s 10ms/step - loss: 2.9856e-04 - val_loss: 0.0010\n",
            "Epoch 28/100\n",
            "11/11 [==============================] - 0s 12ms/step - loss: 2.8080e-04 - val_loss: 9.7625e-04\n",
            "Epoch 29/100\n",
            "11/11 [==============================] - 0s 9ms/step - loss: 3.0770e-04 - val_loss: 9.7456e-04\n",
            "Epoch 30/100\n",
            "11/11 [==============================] - 0s 9ms/step - loss: 2.6544e-04 - val_loss: 9.4691e-04\n",
            "Epoch 31/100\n",
            "11/11 [==============================] - 0s 11ms/step - loss: 2.7463e-04 - val_loss: 9.2615e-04\n",
            "Epoch 32/100\n",
            "11/11 [==============================] - 0s 11ms/step - loss: 2.5412e-04 - val_loss: 9.2310e-04\n",
            "Epoch 33/100\n",
            "11/11 [==============================] - 0s 9ms/step - loss: 2.4697e-04 - val_loss: 9.0486e-04\n",
            "Epoch 34/100\n",
            "11/11 [==============================] - 0s 9ms/step - loss: 2.4751e-04 - val_loss: 8.9639e-04\n",
            "Epoch 35/100\n",
            "11/11 [==============================] - 0s 9ms/step - loss: 2.4372e-04 - val_loss: 9.3213e-04\n",
            "Epoch 36/100\n",
            "11/11 [==============================] - 0s 10ms/step - loss: 2.8114e-04 - val_loss: 8.9148e-04\n",
            "Epoch 37/100\n",
            "11/11 [==============================] - 0s 11ms/step - loss: 2.4943e-04 - val_loss: 8.8498e-04\n",
            "Epoch 38/100\n",
            "11/11 [==============================] - 0s 9ms/step - loss: 2.3059e-04 - val_loss: 9.1965e-04\n",
            "Epoch 39/100\n",
            "11/11 [==============================] - 0s 9ms/step - loss: 2.5479e-04 - val_loss: 8.6367e-04\n",
            "Epoch 40/100\n",
            "11/11 [==============================] - 0s 9ms/step - loss: 2.5845e-04 - val_loss: 8.4898e-04\n",
            "Epoch 41/100\n",
            "11/11 [==============================] - 0s 13ms/step - loss: 2.3252e-04 - val_loss: 8.4851e-04\n",
            "Epoch 42/100\n",
            "11/11 [==============================] - 0s 10ms/step - loss: 2.4908e-04 - val_loss: 8.5016e-04\n",
            "Epoch 43/100\n",
            "11/11 [==============================] - 0s 10ms/step - loss: 2.5208e-04 - val_loss: 9.3246e-04\n",
            "Epoch 44/100\n",
            "11/11 [==============================] - 0s 11ms/step - loss: 2.5674e-04 - val_loss: 8.4759e-04\n",
            "Epoch 45/100\n",
            "11/11 [==============================] - 0s 10ms/step - loss: 2.2979e-04 - val_loss: 8.2991e-04\n",
            "Epoch 46/100\n",
            "11/11 [==============================] - 0s 11ms/step - loss: 2.3728e-04 - val_loss: 8.3365e-04\n",
            "Epoch 47/100\n",
            "11/11 [==============================] - 0s 9ms/step - loss: 2.5195e-04 - val_loss: 8.3939e-04\n",
            "Epoch 48/100\n",
            "11/11 [==============================] - 0s 10ms/step - loss: 2.1800e-04 - val_loss: 8.4008e-04\n",
            "Epoch 49/100\n",
            "11/11 [==============================] - 0s 11ms/step - loss: 2.2069e-04 - val_loss: 8.1771e-04\n",
            "Epoch 50/100\n",
            "11/11 [==============================] - 0s 9ms/step - loss: 2.1724e-04 - val_loss: 8.1721e-04\n",
            "Epoch 51/100\n",
            "11/11 [==============================] - 0s 9ms/step - loss: 2.1225e-04 - val_loss: 8.3796e-04\n",
            "Epoch 52/100\n",
            "11/11 [==============================] - 0s 10ms/step - loss: 2.4440e-04 - val_loss: 0.0010\n",
            "Epoch 53/100\n",
            "11/11 [==============================] - 0s 11ms/step - loss: 2.2065e-04 - val_loss: 8.1878e-04\n",
            "Epoch 54/100\n",
            "11/11 [==============================] - 0s 9ms/step - loss: 2.1918e-04 - val_loss: 8.7523e-04\n",
            "Epoch 55/100\n",
            "11/11 [==============================] - 0s 9ms/step - loss: 2.2779e-04 - val_loss: 7.8286e-04\n",
            "Epoch 56/100\n",
            "11/11 [==============================] - 0s 9ms/step - loss: 2.1289e-04 - val_loss: 8.0875e-04\n",
            "Epoch 57/100\n",
            "11/11 [==============================] - 0s 10ms/step - loss: 2.1035e-04 - val_loss: 7.7351e-04\n",
            "Epoch 58/100\n",
            "11/11 [==============================] - 0s 15ms/step - loss: 2.1187e-04 - val_loss: 8.3098e-04\n",
            "Epoch 59/100\n",
            "11/11 [==============================] - 0s 9ms/step - loss: 2.9885e-04 - val_loss: 0.0013\n",
            "Epoch 60/100\n",
            "11/11 [==============================] - 0s 9ms/step - loss: 3.7397e-04 - val_loss: 8.6833e-04\n",
            "Epoch 61/100\n",
            "11/11 [==============================] - 0s 10ms/step - loss: 2.6692e-04 - val_loss: 8.4001e-04\n",
            "Epoch 62/100\n",
            "11/11 [==============================] - 0s 9ms/step - loss: 2.3015e-04 - val_loss: 7.8837e-04\n",
            "Epoch 63/100\n",
            "11/11 [==============================] - 0s 9ms/step - loss: 2.4678e-04 - val_loss: 7.8134e-04\n",
            "Epoch 64/100\n",
            "11/11 [==============================] - 0s 9ms/step - loss: 2.2397e-04 - val_loss: 8.8730e-04\n",
            "Epoch 65/100\n",
            "11/11 [==============================] - 0s 9ms/step - loss: 2.0772e-04 - val_loss: 7.9635e-04\n",
            "Epoch 66/100\n",
            "11/11 [==============================] - 0s 9ms/step - loss: 2.0460e-04 - val_loss: 7.6996e-04\n",
            "Epoch 67/100\n",
            "11/11 [==============================] - 0s 9ms/step - loss: 2.0712e-04 - val_loss: 8.0217e-04\n",
            "Epoch 68/100\n",
            "11/11 [==============================] - 0s 10ms/step - loss: 2.0743e-04 - val_loss: 8.0643e-04\n",
            "Epoch 69/100\n",
            "11/11 [==============================] - 0s 9ms/step - loss: 2.3844e-04 - val_loss: 8.0238e-04\n",
            "Epoch 70/100\n",
            "11/11 [==============================] - 0s 9ms/step - loss: 2.0993e-04 - val_loss: 7.8401e-04\n",
            "Epoch 71/100\n",
            "11/11 [==============================] - 0s 9ms/step - loss: 1.9879e-04 - val_loss: 7.5106e-04\n",
            "Epoch 72/100\n",
            "11/11 [==============================] - 0s 9ms/step - loss: 2.0080e-04 - val_loss: 7.5884e-04\n",
            "Epoch 73/100\n",
            "11/11 [==============================] - 0s 9ms/step - loss: 1.9827e-04 - val_loss: 7.6877e-04\n",
            "Epoch 74/100\n",
            "11/11 [==============================] - 0s 9ms/step - loss: 2.1357e-04 - val_loss: 8.2999e-04\n",
            "Epoch 75/100\n",
            "11/11 [==============================] - 0s 13ms/step - loss: 2.1986e-04 - val_loss: 7.4072e-04\n",
            "Epoch 76/100\n",
            "11/11 [==============================] - 0s 9ms/step - loss: 1.9751e-04 - val_loss: 7.5887e-04\n",
            "Epoch 77/100\n",
            "11/11 [==============================] - 0s 9ms/step - loss: 1.9377e-04 - val_loss: 7.3344e-04\n",
            "Epoch 78/100\n",
            "11/11 [==============================] - 0s 9ms/step - loss: 2.1243e-04 - val_loss: 8.5461e-04\n",
            "Epoch 79/100\n",
            "11/11 [==============================] - 0s 9ms/step - loss: 1.9561e-04 - val_loss: 7.2505e-04\n",
            "Epoch 80/100\n",
            "11/11 [==============================] - 0s 9ms/step - loss: 1.9931e-04 - val_loss: 7.2411e-04\n",
            "Epoch 81/100\n",
            "11/11 [==============================] - 0s 9ms/step - loss: 1.9788e-04 - val_loss: 7.2347e-04\n",
            "Epoch 82/100\n",
            "11/11 [==============================] - 0s 9ms/step - loss: 1.9816e-04 - val_loss: 7.3912e-04\n",
            "Epoch 83/100\n",
            "11/11 [==============================] - 0s 9ms/step - loss: 1.9830e-04 - val_loss: 7.2884e-04\n",
            "Epoch 84/100\n",
            "11/11 [==============================] - 0s 10ms/step - loss: 1.8836e-04 - val_loss: 7.1322e-04\n",
            "Epoch 85/100\n",
            "11/11 [==============================] - 0s 9ms/step - loss: 1.9437e-04 - val_loss: 7.8005e-04\n",
            "Epoch 86/100\n",
            "11/11 [==============================] - 0s 9ms/step - loss: 1.8935e-04 - val_loss: 7.4509e-04\n",
            "Epoch 87/100\n",
            "11/11 [==============================] - 0s 9ms/step - loss: 2.0508e-04 - val_loss: 8.5016e-04\n",
            "Epoch 88/100\n",
            "11/11 [==============================] - 0s 9ms/step - loss: 2.2081e-04 - val_loss: 6.9923e-04\n",
            "Epoch 89/100\n",
            "11/11 [==============================] - 0s 9ms/step - loss: 1.9953e-04 - val_loss: 7.7500e-04\n",
            "Epoch 90/100\n",
            "11/11 [==============================] - 0s 10ms/step - loss: 2.0054e-04 - val_loss: 7.8109e-04\n",
            "Epoch 91/100\n",
            "11/11 [==============================] - 0s 14ms/step - loss: 1.9186e-04 - val_loss: 7.1633e-04\n",
            "Epoch 92/100\n",
            "11/11 [==============================] - 0s 9ms/step - loss: 2.1362e-04 - val_loss: 7.2385e-04\n",
            "Epoch 93/100\n",
            "11/11 [==============================] - 0s 9ms/step - loss: 2.1950e-04 - val_loss: 7.2233e-04\n",
            "Epoch 94/100\n",
            "11/11 [==============================] - 0s 9ms/step - loss: 2.1564e-04 - val_loss: 7.0588e-04\n",
            "Epoch 95/100\n",
            "11/11 [==============================] - 0s 10ms/step - loss: 2.0824e-04 - val_loss: 7.1172e-04\n",
            "Epoch 96/100\n",
            "11/11 [==============================] - 0s 9ms/step - loss: 1.9751e-04 - val_loss: 7.1461e-04\n",
            "Epoch 97/100\n",
            "11/11 [==============================] - 0s 9ms/step - loss: 1.8481e-04 - val_loss: 7.1121e-04\n",
            "Epoch 98/100\n",
            "11/11 [==============================] - 0s 9ms/step - loss: 1.9067e-04 - val_loss: 8.5905e-04\n",
            "Epoch 99/100\n",
            "11/11 [==============================] - 0s 9ms/step - loss: 1.9560e-04 - val_loss: 7.2358e-04\n",
            "Epoch 100/100\n",
            "11/11 [==============================] - 0s 9ms/step - loss: 1.8672e-04 - val_loss: 6.9449e-04\n"
          ]
        },
        {
          "data": {
            "text/plain": [
              "<keras.callbacks.History at 0x1c0d0906d90>"
            ]
          },
          "execution_count": 9,
          "metadata": {},
          "output_type": "execute_result"
        }
      ],
      "source": [
        "# 9. Fit mô hình với dữ liệu train\n",
        "model.fit(X_train,y_train,validation_data=(X_test,ytest),epochs=100,batch_size=64,verbose=1)"
      ]
    },
    {
      "cell_type": "code",
      "execution_count": 10,
      "metadata": {
        "colab": {
          "base_uri": "https://localhost:8080/"
        },
        "id": "Rxx_KQSkQpBG",
        "outputId": "0df24e91-aa54-4a9f-bd68-726fab1f58fd"
      },
      "outputs": [
        {
          "name": "stdout",
          "output_type": "stream",
          "text": [
            "21/21 [==============================] - 0s 3ms/step\n",
            "4/4 [==============================] - 0s 3ms/step\n",
            "1/1 [==============================] - 0s 16ms/step\n"
          ]
        }
      ],
      "source": [
        "# 10. Dự báo dữ liệu test, val\n",
        "train_predict=model.predict(X_train)\n",
        "y_pred=model.predict(X_test)\n",
        "y_pred_val=model.predict(X_val)"
      ]
    },
    {
      "cell_type": "code",
      "execution_count": 11,
      "metadata": {
        "id": "5rwTN10LQ7rj"
      },
      "outputs": [],
      "source": [
        "# 11. Chuẩn hóa dữ liệu y_pred, y_pred_val\n",
        "train_predict=scaler.inverse_transform(train_predict)\n",
        "y_pred=scaler.inverse_transform(y_pred)\n",
        "y_pred_val=scaler.inverse_transform(y_pred_val)"
      ]
    },
    {
      "cell_type": "code",
      "execution_count": 12,
      "metadata": {
        "colab": {
          "base_uri": "https://localhost:8080/"
        },
        "id": "wu_9j94kRonD",
        "outputId": "8da934dd-5814-417e-ba82-455854690d92"
      },
      "outputs": [
        {
          "name": "stdout",
          "output_type": "stream",
          "text": [
            "Validation RMSE: 78886.25250324258\n",
            "Testing RMSE: 81126.78482941903\n"
          ]
        }
      ],
      "source": [
        "# 12. Đánh giá độ chính xác thuật toán bằng RMSE\n",
        "valid_rmse = np.sqrt(np.mean((y_pred_val - yval)**2))\n",
        "test_rmse = np.sqrt(np.mean((y_pred - ytest)**2))\n",
        "print('Validation RMSE:', valid_rmse)\n",
        "print('Testing RMSE:', test_rmse)"
      ]
    },
    {
      "cell_type": "code",
      "execution_count": 14,
      "metadata": {
        "colab": {
          "base_uri": "https://localhost:8080/"
        },
        "id": "izQZ1iQyYl6N",
        "outputId": "da89916c-d28c-486b-ed14-b64d0463058c"
      },
      "outputs": [
        {
          "name": "stdout",
          "output_type": "stream",
          "text": [
            "[0.7701346]\n",
            "50\n",
            "[0.7701346]\n",
            "51\n",
            "[0.7701346]\n",
            "52\n",
            "[0.7701346]\n",
            "53\n",
            "[0.7701346]\n",
            "54\n",
            "[0.7701346]\n",
            "55\n",
            "[0.7701346]\n",
            "56\n",
            "[0.7701346]\n",
            "57\n",
            "[0.7701346]\n",
            "58\n",
            "[0.7701346]\n",
            "59\n",
            "[0.7701346]\n",
            "60\n",
            "[0.7701346]\n",
            "61\n",
            "[0.7701346]\n",
            "62\n",
            "[0.7701346]\n",
            "63\n",
            "[0.7701346]\n",
            "64\n",
            "[0.7701346]\n",
            "65\n",
            "[0.7701346]\n",
            "66\n",
            "[0.7701346]\n",
            "67\n",
            "[0.7701346]\n",
            "68\n",
            "[0.7701346]\n",
            "69\n",
            "[0.7701346]\n",
            "70\n",
            "[0.7701346]\n",
            "71\n",
            "[0.7701346]\n",
            "72\n",
            "[0.7701346]\n",
            "73\n",
            "[0.7701346]\n",
            "74\n",
            "[0.7701346]\n",
            "75\n",
            "[0.7701346]\n",
            "76\n",
            "[0.7701346]\n",
            "77\n",
            "[0.7701346]\n",
            "78\n",
            "[0.7701346]\n",
            "79\n"
          ]
        }
      ],
      "source": [
        "# 13. Dự báo 30 ngày tiếp theo\n",
        "x_input=val_data[60:].reshape(1,-1)\n",
        "x_input.shape\n",
        "\n",
        "temp_input=list(x_input)\n",
        "temp_input=temp_input[0].tolist()\n",
        "\n",
        "from numpy import array\n",
        "\n",
        "lst_output=[]\n",
        "n_steps=100\n",
        "i=0\n",
        "while(i<30):\n",
        "    \n",
        "    if(len(temp_input)>100):\n",
        "        #print(temp_input)\n",
        "        x_input=np.array(temp_input[1:])\n",
        "        print(\"{} day input {}\".format(i,x_input))\n",
        "        x_input=x_input.reshape(1,-1)\n",
        "        x_input = x_input.reshape((1, n_steps, 1))\n",
        "        #print(x_input)\n",
        "        yhat = model.predict(x_input, verbose=0)\n",
        "        print(\"{} day output {}\".format(i,yhat))\n",
        "        temp_input.extend(yhat[0].tolist())\n",
        "        temp_input=temp_input[1:]\n",
        "        #print(temp_input)\n",
        "        lst_output.extend(yhat.tolist())\n",
        "        i=i+1\n",
        "    else:\n",
        "        x_input = x_input.reshape((1, 49,1))\n",
        "        yhat = model.predict(x_input, verbose=0)\n",
        "        print(yhat[0])\n",
        "        temp_input.extend(yhat[0].tolist())\n",
        "        print(len(temp_input))\n",
        "        lst_output.extend(yhat.tolist())\n",
        "        i=i+1\n"
      ]
    },
    {
      "cell_type": "code",
      "execution_count": null,
      "metadata": {
        "colab": {
          "base_uri": "https://localhost:8080/",
          "height": 430
        },
        "id": "KSa_mX51a654",
        "outputId": "60c3f172-2b6b-4e2f-970a-0a019c68e551"
      },
      "outputs": [
        {
          "data": {
            "image/png": "[encoded data removed]",
            "text/plain": [
              "<Figure size 640x480 with 1 Axes>"
            ]
          },
          "metadata": {},
          "output_type": "display_data"
        }
      ],
      "source": [
        "# 14.Vẽ hình\n",
        "\n",
        "train_data_index = pd.RangeIndex(start=0, stop=train_size, step=1)\n",
        "plt.plot(scaler.inverse_transform(train_data))\n",
        "test_data_index = pd.RangeIndex(start=train_size, stop=train_size+test_size, step=1)\n",
        "plt.plot(test_data_index,scaler.inverse_transform(test_data))\n",
        "test_data_index = pd.RangeIndex(start=train_size+101, stop=train_size+test_size, step=1)\n",
        "plt.plot(test_data_index,(y_pred))\n",
        "val_data_index = pd.RangeIndex(start=train_size+test_size, stop=train_size+test_size+val_size, step=1)\n",
        "plt.plot(val_data_index,scaler.inverse_transform(val_data))\n",
        "val_data_index = pd.RangeIndex(start=train_size+test_size+101, stop=train_size+test_size+val_size, step=1)\n",
        "plt.plot(val_data_index,y_pred_val)\n",
        "prediect_data_index = pd.RangeIndex(start=len(df1)-1, stop=len(df1)+29, step=1)\n",
        "plt.plot(prediect_data_index,scaler.inverse_transform(lst_output))\n",
        "plt.legend(['Train','Test','Predict','Validate','ValidatePred','Predict30days'])\n",
        "plt.show()"
      ]
    }
  ],
  "metadata": {
    "colab": {
      "provenance": []
    },
    "kernelspec": {
      "display_name": "Python 3",
      "name": "python3"
    },
    "language_info": {
      "codemirror_mode": {
        "name": "ipython",
        "version": 3
      },
      "file_extension": ".py",
      "mimetype": "text/x-python",
      "name": "python",
      "nbconvert_exporter": "python",
      "pygments_lexer": "ipython3",
      "version": "3.9.13"
    }
  },
  "nbformat": 4,
  "nbformat_minor": 0
}
